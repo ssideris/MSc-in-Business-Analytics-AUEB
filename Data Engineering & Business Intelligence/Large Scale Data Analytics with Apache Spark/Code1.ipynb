{
 "cells": [
  {
   "cell_type": "markdown",
   "id": "2a9209dc-2d83-4bef-9938-ed884bd8f937",
   "metadata": {},
   "source": [
    "Name: Stamatios Sideris\n",
    "\n",
    "ID: f2822113"
   ]
  },
  {
   "attachments": {},
   "cell_type": "markdown",
   "id": "62bf8709",
   "metadata": {},
   "source": [
    "**Background**\n",
    "\n",
    "You have been hired by a small bookstore company that wants to use data science techniques to optimize their sales. It has been assigned to you to analyse a dataset of books metadata using Apache Spark (and PySpark, in particular) to reveal useful insights.\n",
    "\n",
    "**Task 1**\n",
    "\n",
    "Your first task is to explore the dataset. You need to use SparkSQL with Dataframes in a Jupyter notebook that delivers the following:\n",
    "- It uses the json() function to load the dataset.\n",
    "- It counts and displays the number of books in the database.\n",
    "- It counts and displays the number of e-books in the database (based on the “is_ebook”\n",
    "field).\n",
    "- It uses the summary() command to display basic statistics about the “average_rating”\n",
    "field.\n",
    "- It uses the groupby() and count() commands to display all distinct values in the\n",
    "“format” field and their number of appearances"
   ]
  },
  {
   "attachments": {},
   "cell_type": "markdown",
   "id": "dba72da0-ed57-4554-b279-5c8528c764a5",
   "metadata": {},
   "source": [
    "##### We first create a sparkSession. It is responsible to create a sparkContext object that will help us communicate with Spark. As it will need the credentials of our application it also creates a SparkConf object that includes our application name and the location it will run."
   ]
  },
  {
   "cell_type": "code",
   "execution_count": 1,
   "id": "2928117a-f0a5-4de7-9c65-18330528f1aa",
   "metadata": {},
   "outputs": [],
   "source": [
    "from pyspark.sql import SparkSession\n",
    "appName = \"task1\" #determine the name of the App\n",
    "master = \"local\" #determine it will run locally\n",
    "spark = SparkSession.builder.appName(appName).master(master).getOrCreate()"
   ]
  },
  {
   "attachments": {},
   "cell_type": "markdown",
   "id": "36fa2327-c23f-41b4-bcf6-05949123b045",
   "metadata": {},
   "source": [
    "##### We read the json file and print its schema"
   ]
  },
  {
   "cell_type": "code",
   "execution_count": 2,
   "id": "4ea46a98-acf1-43ca-b40e-6d2f0cda2bbe",
   "metadata": {},
   "outputs": [
    {
     "name": "stdout",
     "output_type": "stream",
     "text": [
      "root\n",
      " |-- asin: string (nullable = true)\n",
      " |-- authors: array (nullable = true)\n",
      " |    |-- element: struct (containsNull = true)\n",
      " |    |    |-- author_id: string (nullable = true)\n",
      " |    |    |-- role: string (nullable = true)\n",
      " |-- average_rating: string (nullable = true)\n",
      " |-- book_id: string (nullable = true)\n",
      " |-- country_code: string (nullable = true)\n",
      " |-- description: string (nullable = true)\n",
      " |-- edition_information: string (nullable = true)\n",
      " |-- format: string (nullable = true)\n",
      " |-- image_url: string (nullable = true)\n",
      " |-- is_ebook: string (nullable = true)\n",
      " |-- isbn: string (nullable = true)\n",
      " |-- isbn13: string (nullable = true)\n",
      " |-- kindle_asin: string (nullable = true)\n",
      " |-- language_code: string (nullable = true)\n",
      " |-- link: string (nullable = true)\n",
      " |-- num_pages: string (nullable = true)\n",
      " |-- popular_shelves: array (nullable = true)\n",
      " |    |-- element: struct (containsNull = true)\n",
      " |    |    |-- count: string (nullable = true)\n",
      " |    |    |-- name: string (nullable = true)\n",
      " |-- publication_day: string (nullable = true)\n",
      " |-- publication_month: string (nullable = true)\n",
      " |-- publication_year: string (nullable = true)\n",
      " |-- publisher: string (nullable = true)\n",
      " |-- ratings_count: string (nullable = true)\n",
      " |-- series: array (nullable = true)\n",
      " |    |-- element: string (containsNull = true)\n",
      " |-- similar_books: array (nullable = true)\n",
      " |    |-- element: string (containsNull = true)\n",
      " |-- text_reviews_count: string (nullable = true)\n",
      " |-- title: string (nullable = true)\n",
      " |-- title_without_series: string (nullable = true)\n",
      " |-- url: string (nullable = true)\n",
      " |-- work_id: string (nullable = true)\n",
      "\n",
      "+----------+-------------+--------------+--------+------------+--------------------+-------------------+---------+--------------------+--------+----------+------+-----------+-------------+--------------------+---------+--------------------+---------------+-----------------+----------------+--------------------+-------------+--------------------+--------------------+------------------+--------------------+--------------------+--------------------+--------+\n",
      "|      asin|      authors|average_rating| book_id|country_code|         description|edition_information|   format|           image_url|is_ebook|      isbn|isbn13|kindle_asin|language_code|                link|num_pages|     popular_shelves|publication_day|publication_month|publication_year|           publisher|ratings_count|              series|       similar_books|text_reviews_count|               title|title_without_series|                 url| work_id|\n",
      "+----------+-------------+--------------+--------+------------+--------------------+-------------------+---------+--------------------+--------+----------+------+-----------+-------------+--------------------+---------+--------------------+---------------+-----------------+----------------+--------------------+-------------+--------------------+--------------------+------------------+--------------------+--------------------+--------------------+--------+\n",
      "|B00NLXQ534|[{8551671, }]|          4.12|25742454|          US|Lillian Ann Cross...|                   |         |https://s.gr-asse...|    true|          |      |           |             |https://www.goodr...|         |[{228, to-read}, ...|               |                 |                |                    |            1|                  []|[25653153, 256991...|                 1|The Switchblade M...|The Switchblade M...|https://www.goodr...|42749946|\n",
      "|          |[{3274315, }]|          3.94|30128855|          US|Florence Dupre La...|                   |         |https://images.gr...|   false|2205073346|      |           |          fre|https://www.goodr...|         |[{2, bd}, {2, to-...|             22|                1|            2016|             Dargaud|           16|                  []|                  []|                 2|             Cruelle|             Cruelle|https://www.goodr...|50558228|\n",
      "|          |  [{37450, }]|          4.28|13571772|          US|The questions pla...|                   |Hardcover|https://images.gr...|   false|          |      |           |          eng|https://www.goodr...|      146|[{493, to-read}, ...|               |                 |            2012|Hachette Partwork...|           51|[246830, 362583, ...|[13590139, 105963...|                 5|Captain America: ...|Captain America: ...|https://www.goodr...|  102217|\n",
      "+----------+-------------+--------------+--------+------------+--------------------+-------------------+---------+--------------------+--------+----------+------+-----------+-------------+--------------------+---------+--------------------+---------------+-----------------+----------------+--------------------+-------------+--------------------+--------------------+------------------+--------------------+--------------------+--------------------+--------+\n",
      "only showing top 3 rows\n",
      "\n"
     ]
    }
   ],
   "source": [
    "json_path = \"books_5000.json\"\n",
    "df = spark.read.json(json_path)\n",
    "df.printSchema()\n",
    "df.show(3)"
   ]
  },
  {
   "attachments": {},
   "cell_type": "markdown",
   "id": "d9d1ba03-fd69-47c0-8fd4-d0b13245a916",
   "metadata": {},
   "source": [
    "#### Count the number of distinct rows and so the number of books as each row refers to a book. The total number of books is 4999."
   ]
  },
  {
   "cell_type": "code",
   "execution_count": 3,
   "id": "76bffc5b-406c-40f4-bf6e-d7560491aa1e",
   "metadata": {},
   "outputs": [
    {
     "data": {
      "text/plain": [
       "4999"
      ]
     },
     "execution_count": 3,
     "metadata": {},
     "output_type": "execute_result"
    }
   ],
   "source": [
    "df.distinct().count()"
   ]
  },
  {
   "attachments": {},
   "cell_type": "markdown",
   "id": "247f1b11-f845-4320-acb9-fffa9bc9ebd8",
   "metadata": {},
   "source": [
    "##### Group by the column \"is_ebook\" and use count to count the number of true and false. Use collect function to keep the second row only that displays the count of true values. The number of true values and so the number of ebooks is 749."
   ]
  },
  {
   "cell_type": "code",
   "execution_count": 4,
   "id": "21fe038a-67aa-4f30-93eb-32735528d6c6",
   "metadata": {},
   "outputs": [
    {
     "data": {
      "text/plain": [
       "Row(is_ebook='true', count=749)"
      ]
     },
     "execution_count": 4,
     "metadata": {},
     "output_type": "execute_result"
    }
   ],
   "source": [
    "df.groupBy(\"is_ebook\").count().collect()[1]"
   ]
  },
  {
   "attachments": {},
   "cell_type": "markdown",
   "id": "6c0e9e32-98d2-4c83-a4be-d9e613adb6c0",
   "metadata": {},
   "source": [
    "##### Use summary command to display basic statistics about the \"average_rating\" field."
   ]
  },
  {
   "cell_type": "code",
   "execution_count": 5,
   "id": "32492bb4-b7bd-4b36-b1fb-240703caaa37",
   "metadata": {},
   "outputs": [
    {
     "name": "stdout",
     "output_type": "stream",
     "text": [
      "+-------+------------------+\n",
      "|summary|    average_rating|\n",
      "+-------+------------------+\n",
      "|  count|              4999|\n",
      "|   mean| 3.911204240848176|\n",
      "| stddev|0.4344448952868878|\n",
      "|    min|              1.00|\n",
      "|    25%|              3.66|\n",
      "|    50%|              3.98|\n",
      "|    75%|              4.23|\n",
      "|    max|              5.00|\n",
      "+-------+------------------+\n",
      "\n"
     ]
    }
   ],
   "source": [
    "df.select(\"average_rating\").summary().show()"
   ]
  },
  {
   "attachments": {},
   "cell_type": "markdown",
   "id": "898a5085-82a0-4fc6-a674-bf7f8309fb59",
   "metadata": {},
   "source": [
    "##### Use the groupby() and count() commands to display all distinct values in the \"format\" field and their number of appearances "
   ]
  },
  {
   "cell_type": "code",
   "execution_count": 6,
   "id": "f98ccefc-11d1-45b3-b7a2-473a464e56ed",
   "metadata": {},
   "outputs": [
    {
     "name": "stdout",
     "output_type": "stream",
     "text": [
      "+--------------------+-----+\n",
      "|              format|count|\n",
      "+--------------------+-----+\n",
      "|Paperback comic book|    1|\n",
      "|        Spiral-bound|    1|\n",
      "|              Broche|    2|\n",
      "|       Graphic Novel|    2|\n",
      "|                  FC|    2|\n",
      "|            Brochura|    1|\n",
      "|           Paperback| 2629|\n",
      "|        Single Issue|    1|\n",
      "|Bolsillo con sobr...|    2|\n",
      "|          Broschiert|    2|\n",
      "|             Planeta|    1|\n",
      "|       Audible Audio|    1|\n",
      "|            Audio CD|    2|\n",
      "|           paperback|    2|\n",
      "| Slipcased Hardcover|    2|\n",
      "|     Library Binding|    2|\n",
      "|       Klappbroschur|    1|\n",
      "|          Board book|   11|\n",
      "|     Klappenbroschur|    1|\n",
      "|                Nook|    1|\n",
      "+--------------------+-----+\n",
      "only showing top 20 rows\n",
      "\n"
     ]
    }
   ],
   "source": [
    "df.groupBy(\"format\").count().show()"
   ]
  }
 ],
 "metadata": {
  "kernelspec": {
   "display_name": "Python 3 (ipykernel)",
   "language": "python",
   "name": "python3"
  },
  "language_info": {
   "codemirror_mode": {
    "name": "ipython",
    "version": 3
   },
   "file_extension": ".py",
   "mimetype": "text/x-python",
   "name": "python",
   "nbconvert_exporter": "python",
   "pygments_lexer": "ipython3",
   "version": "3.9.10"
  }
 },
 "nbformat": 4,
 "nbformat_minor": 5
}
