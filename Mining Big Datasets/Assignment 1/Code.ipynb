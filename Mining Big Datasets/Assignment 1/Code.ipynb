{
 "cells": [
  {
   "cell_type": "markdown",
   "id": "1fd792e9",
   "metadata": {},
   "source": [
    "# Mining Big Datasets - Assignment 1\n",
    "\n",
    "## Portuguese Bank's Marketing Campaign\n",
    "\n",
    "> Konstantinos Ninas, f2822108 <br />\n",
    "> Stamatis Sideris, f2822113 <br />\n",
    "> MSc in Business Analytics <br />\n",
    "> Department of Management Science and Technology <br />\n",
    "> Athens University of Economics and Business <br />"
   ]
  },
  {
   "cell_type": "code",
   "execution_count": 1,
   "id": "fbcc551e",
   "metadata": {},
   "outputs": [],
   "source": [
    "#import libraries\n",
    "import pandas as pd\n",
    "import numpy as np"
   ]
  },
  {
   "cell_type": "markdown",
   "id": "88a47705",
   "metadata": {},
   "source": [
    "## Part 1 - Import of the .csv file and missing values management"
   ]
  },
  {
   "cell_type": "code",
   "execution_count": 2,
   "id": "41fb6b06",
   "metadata": {},
   "outputs": [],
   "source": [
    "#read the csv file using read_csv command\n",
    "marketing_campaign = pd.read_csv(\"bank.csv\",  sep = \";\")"
   ]
  },
  {
   "cell_type": "code",
   "execution_count": 3,
   "id": "d390e982",
   "metadata": {},
   "outputs": [
    {
     "data": {
      "text/html": [
       "<div>\n",
       "<style scoped>\n",
       "    .dataframe tbody tr th:only-of-type {\n",
       "        vertical-align: middle;\n",
       "    }\n",
       "\n",
       "    .dataframe tbody tr th {\n",
       "        vertical-align: top;\n",
       "    }\n",
       "\n",
       "    .dataframe thead th {\n",
       "        text-align: right;\n",
       "    }\n",
       "</style>\n",
       "<table border=\"1\" class=\"dataframe\">\n",
       "  <thead>\n",
       "    <tr style=\"text-align: right;\">\n",
       "      <th></th>\n",
       "      <th>Age</th>\n",
       "      <th>Job</th>\n",
       "      <th>Marital</th>\n",
       "      <th>Education</th>\n",
       "      <th>Default</th>\n",
       "      <th>Balance</th>\n",
       "      <th>Housing</th>\n",
       "      <th>Loan</th>\n",
       "      <th>Rating</th>\n",
       "      <th>Products</th>\n",
       "    </tr>\n",
       "  </thead>\n",
       "  <tbody>\n",
       "    <tr>\n",
       "      <th>0</th>\n",
       "      <td>33.0</td>\n",
       "      <td>entrepreneur</td>\n",
       "      <td>married</td>\n",
       "      <td>secondary</td>\n",
       "      <td>no</td>\n",
       "      <td>2</td>\n",
       "      <td>yes</td>\n",
       "      <td>yes</td>\n",
       "      <td>poor</td>\n",
       "      <td>1,3,16,17,19</td>\n",
       "    </tr>\n",
       "    <tr>\n",
       "      <th>1</th>\n",
       "      <td>35.0</td>\n",
       "      <td>management</td>\n",
       "      <td>married</td>\n",
       "      <td>tertiary</td>\n",
       "      <td>no</td>\n",
       "      <td>231</td>\n",
       "      <td>yes</td>\n",
       "      <td>no</td>\n",
       "      <td>good</td>\n",
       "      <td>4,8,16</td>\n",
       "    </tr>\n",
       "    <tr>\n",
       "      <th>2</th>\n",
       "      <td>NaN</td>\n",
       "      <td>management</td>\n",
       "      <td>single</td>\n",
       "      <td>tertiary</td>\n",
       "      <td>no</td>\n",
       "      <td>447</td>\n",
       "      <td>yes</td>\n",
       "      <td>yes</td>\n",
       "      <td>fair</td>\n",
       "      <td>7,16</td>\n",
       "    </tr>\n",
       "    <tr>\n",
       "      <th>3</th>\n",
       "      <td>42.0</td>\n",
       "      <td>entrepreneur</td>\n",
       "      <td>divorced</td>\n",
       "      <td>tertiary</td>\n",
       "      <td>yes</td>\n",
       "      <td>2</td>\n",
       "      <td>yes</td>\n",
       "      <td>no</td>\n",
       "      <td>fair</td>\n",
       "      <td>1,3,8,10,11,12,18,19</td>\n",
       "    </tr>\n",
       "    <tr>\n",
       "      <th>4</th>\n",
       "      <td>58.0</td>\n",
       "      <td>retired</td>\n",
       "      <td>married</td>\n",
       "      <td>primary</td>\n",
       "      <td>no</td>\n",
       "      <td>121</td>\n",
       "      <td>yes</td>\n",
       "      <td>no</td>\n",
       "      <td>good</td>\n",
       "      <td>4,5,6,7,11,18,19</td>\n",
       "    </tr>\n",
       "  </tbody>\n",
       "</table>\n",
       "</div>"
      ],
      "text/plain": [
       "    Age           Job   Marital  Education Default  Balance Housing Loan  \\\n",
       "0  33.0  entrepreneur   married  secondary      no        2     yes  yes   \n",
       "1  35.0    management   married   tertiary      no      231     yes   no   \n",
       "2   NaN    management    single   tertiary      no      447     yes  yes   \n",
       "3  42.0  entrepreneur  divorced   tertiary     yes        2     yes   no   \n",
       "4  58.0       retired   married    primary      no      121     yes   no   \n",
       "\n",
       "  Rating              Products  \n",
       "0   poor          1,3,16,17,19  \n",
       "1   good                4,8,16  \n",
       "2   fair                  7,16  \n",
       "3   fair  1,3,8,10,11,12,18,19  \n",
       "4   good      4,5,6,7,11,18,19  "
      ]
     },
     "execution_count": 3,
     "metadata": {},
     "output_type": "execute_result"
    }
   ],
   "source": [
    "#view the top 5 observations using the head function\n",
    "marketing_campaign.head(5)"
   ]
  },
  {
   "cell_type": "code",
   "execution_count": 4,
   "id": "7aa495a3",
   "metadata": {},
   "outputs": [
    {
     "data": {
      "text/plain": [
       "Age          float64\n",
       "Job           object\n",
       "Marital       object\n",
       "Education     object\n",
       "Default       object\n",
       "Balance        int64\n",
       "Housing       object\n",
       "Loan          object\n",
       "Rating        object\n",
       "Products      object\n",
       "dtype: object"
      ]
     },
     "execution_count": 4,
     "metadata": {},
     "output_type": "execute_result"
    }
   ],
   "source": [
    "#identify the datatypes of each column\n",
    "marketing_campaign.dtypes"
   ]
  },
  {
   "cell_type": "markdown",
   "id": "cfe925ea",
   "metadata": {},
   "source": [
    "* There are missing values in the age and the balance variables."
   ]
  },
  {
   "cell_type": "code",
   "execution_count": 5,
   "id": "1a056939",
   "metadata": {},
   "outputs": [
    {
     "data": {
      "text/plain": [
       "41.0"
      ]
     },
     "execution_count": 5,
     "metadata": {},
     "output_type": "execute_result"
    }
   ],
   "source": [
    "#calculation of the average age\n",
    "average_age = round(np.mean(marketing_campaign[\"Age\"]),0)\n",
    "average_age"
   ]
  },
  {
   "cell_type": "code",
   "execution_count": 6,
   "id": "a848337a",
   "metadata": {},
   "outputs": [
    {
     "data": {
      "text/plain": [
       "1354.0"
      ]
     },
     "execution_count": 6,
     "metadata": {},
     "output_type": "execute_result"
    }
   ],
   "source": [
    "#calculation of the average balance\n",
    "average_balance = round(np.mean(marketing_campaign[\"Balance\"]),0)\n",
    "average_balance"
   ]
  },
  {
   "cell_type": "code",
   "execution_count": 7,
   "id": "f8b8e3e8",
   "metadata": {},
   "outputs": [],
   "source": [
    "#replace of the missing values in the age variable with the average age\n",
    "marketing_campaign.loc[np.isnan(marketing_campaign.Age), 'Age'] = average_age"
   ]
  },
  {
   "cell_type": "code",
   "execution_count": 8,
   "id": "4a5c2889",
   "metadata": {},
   "outputs": [],
   "source": [
    "#replace of the missing values in the balance variable with the average balance\n",
    "marketing_campaign.loc[np.isnan(marketing_campaign.Balance), 'Balance'] = average_balance"
   ]
  },
  {
   "cell_type": "code",
   "execution_count": 9,
   "id": "f6b6b5ce",
   "metadata": {},
   "outputs": [
    {
     "name": "stdout",
     "output_type": "stream",
     "text": [
      "The Age variable has 0 missing values\n",
      "The Balance variable has 0 missing values\n"
     ]
    }
   ],
   "source": [
    "print(\"The Age variable has\",sum(np.isnan(marketing_campaign.Age)), \"missing values\")\n",
    "print(\"The Balance variable has\",sum(np.isnan(marketing_campaign.Balance)), \"missing values\")"
   ]
  },
  {
   "cell_type": "code",
   "execution_count": 10,
   "id": "cd930e96",
   "metadata": {},
   "outputs": [],
   "source": [
    "#update the data type of age from float to integer\n",
    "marketing_campaign['Age'] = marketing_campaign['Age'].astype(np.int64)"
   ]
  },
  {
   "cell_type": "code",
   "execution_count": 11,
   "id": "4482500f",
   "metadata": {},
   "outputs": [
    {
     "data": {
      "text/plain": [
       "Age           int64\n",
       "Job          object\n",
       "Marital      object\n",
       "Education    object\n",
       "Default      object\n",
       "Balance       int64\n",
       "Housing      object\n",
       "Loan         object\n",
       "Rating       object\n",
       "Products     object\n",
       "dtype: object"
      ]
     },
     "execution_count": 11,
     "metadata": {},
     "output_type": "execute_result"
    }
   ],
   "source": [
    "#check if the data type conversion was succesful\n",
    "marketing_campaign.dtypes"
   ]
  },
  {
   "cell_type": "code",
   "execution_count": 12,
   "id": "03185c10",
   "metadata": {},
   "outputs": [
    {
     "data": {
      "text/html": [
       "<div>\n",
       "<style scoped>\n",
       "    .dataframe tbody tr th:only-of-type {\n",
       "        vertical-align: middle;\n",
       "    }\n",
       "\n",
       "    .dataframe tbody tr th {\n",
       "        vertical-align: top;\n",
       "    }\n",
       "\n",
       "    .dataframe thead th {\n",
       "        text-align: right;\n",
       "    }\n",
       "</style>\n",
       "<table border=\"1\" class=\"dataframe\">\n",
       "  <thead>\n",
       "    <tr style=\"text-align: right;\">\n",
       "      <th></th>\n",
       "      <th>Age</th>\n",
       "      <th>Job</th>\n",
       "      <th>Marital</th>\n",
       "      <th>Education</th>\n",
       "      <th>Default</th>\n",
       "      <th>Balance</th>\n",
       "      <th>Housing</th>\n",
       "      <th>Loan</th>\n",
       "      <th>Rating</th>\n",
       "      <th>Products</th>\n",
       "    </tr>\n",
       "  </thead>\n",
       "  <tbody>\n",
       "    <tr>\n",
       "      <th>0</th>\n",
       "      <td>33</td>\n",
       "      <td>entrepreneur</td>\n",
       "      <td>married</td>\n",
       "      <td>secondary</td>\n",
       "      <td>no</td>\n",
       "      <td>2</td>\n",
       "      <td>yes</td>\n",
       "      <td>yes</td>\n",
       "      <td>poor</td>\n",
       "      <td>1,3,16,17,19</td>\n",
       "    </tr>\n",
       "    <tr>\n",
       "      <th>1</th>\n",
       "      <td>35</td>\n",
       "      <td>management</td>\n",
       "      <td>married</td>\n",
       "      <td>tertiary</td>\n",
       "      <td>no</td>\n",
       "      <td>231</td>\n",
       "      <td>yes</td>\n",
       "      <td>no</td>\n",
       "      <td>good</td>\n",
       "      <td>4,8,16</td>\n",
       "    </tr>\n",
       "    <tr>\n",
       "      <th>2</th>\n",
       "      <td>41</td>\n",
       "      <td>management</td>\n",
       "      <td>single</td>\n",
       "      <td>tertiary</td>\n",
       "      <td>no</td>\n",
       "      <td>447</td>\n",
       "      <td>yes</td>\n",
       "      <td>yes</td>\n",
       "      <td>fair</td>\n",
       "      <td>7,16</td>\n",
       "    </tr>\n",
       "    <tr>\n",
       "      <th>3</th>\n",
       "      <td>42</td>\n",
       "      <td>entrepreneur</td>\n",
       "      <td>divorced</td>\n",
       "      <td>tertiary</td>\n",
       "      <td>yes</td>\n",
       "      <td>2</td>\n",
       "      <td>yes</td>\n",
       "      <td>no</td>\n",
       "      <td>fair</td>\n",
       "      <td>1,3,8,10,11,12,18,19</td>\n",
       "    </tr>\n",
       "    <tr>\n",
       "      <th>4</th>\n",
       "      <td>58</td>\n",
       "      <td>retired</td>\n",
       "      <td>married</td>\n",
       "      <td>primary</td>\n",
       "      <td>no</td>\n",
       "      <td>121</td>\n",
       "      <td>yes</td>\n",
       "      <td>no</td>\n",
       "      <td>good</td>\n",
       "      <td>4,5,6,7,11,18,19</td>\n",
       "    </tr>\n",
       "  </tbody>\n",
       "</table>\n",
       "</div>"
      ],
      "text/plain": [
       "   Age           Job   Marital  Education Default  Balance Housing Loan  \\\n",
       "0   33  entrepreneur   married  secondary      no        2     yes  yes   \n",
       "1   35    management   married   tertiary      no      231     yes   no   \n",
       "2   41    management    single   tertiary      no      447     yes  yes   \n",
       "3   42  entrepreneur  divorced   tertiary     yes        2     yes   no   \n",
       "4   58       retired   married    primary      no      121     yes   no   \n",
       "\n",
       "  Rating              Products  \n",
       "0   poor          1,3,16,17,19  \n",
       "1   good                4,8,16  \n",
       "2   fair                  7,16  \n",
       "3   fair  1,3,8,10,11,12,18,19  \n",
       "4   good      4,5,6,7,11,18,19  "
      ]
     },
     "execution_count": 12,
     "metadata": {},
     "output_type": "execute_result"
    }
   ],
   "source": [
    "marketing_campaign.head(5)"
   ]
  },
  {
   "cell_type": "markdown",
   "id": "692b035c",
   "metadata": {},
   "source": [
    "## Part 2 - Calculation of dissimilarity between customers in the dataset"
   ]
  },
  {
   "cell_type": "code",
   "execution_count": 13,
   "id": "9cc8bd5c",
   "metadata": {},
   "outputs": [],
   "source": [
    "import itertools\n",
    "\n",
    "#define jaccard similarity (size of intersection over size of union)\n",
    "def jaccard_sim(list1, list2):\n",
    "    intersection = len(list(set(list1).intersection(list2)))\n",
    "    union = (len(list1) + len(list2)) - intersection\n",
    "    return float(intersection) / union"
   ]
  },
  {
   "cell_type": "code",
   "execution_count": 14,
   "id": "0c1884c6",
   "metadata": {},
   "outputs": [
    {
     "data": {
      "text/html": [
       "<div>\n",
       "<style scoped>\n",
       "    .dataframe tbody tr th:only-of-type {\n",
       "        vertical-align: middle;\n",
       "    }\n",
       "\n",
       "    .dataframe tbody tr th {\n",
       "        vertical-align: top;\n",
       "    }\n",
       "\n",
       "    .dataframe thead th {\n",
       "        text-align: right;\n",
       "    }\n",
       "</style>\n",
       "<table border=\"1\" class=\"dataframe\">\n",
       "  <thead>\n",
       "    <tr style=\"text-align: right;\">\n",
       "      <th></th>\n",
       "      <th>Age</th>\n",
       "      <th>Job</th>\n",
       "      <th>Marital</th>\n",
       "      <th>Education</th>\n",
       "      <th>Default</th>\n",
       "      <th>Balance</th>\n",
       "      <th>Housing</th>\n",
       "      <th>Loan</th>\n",
       "      <th>Rating</th>\n",
       "      <th>Products</th>\n",
       "    </tr>\n",
       "  </thead>\n",
       "  <tbody>\n",
       "    <tr>\n",
       "      <th>0</th>\n",
       "      <td>33</td>\n",
       "      <td>entrepreneur</td>\n",
       "      <td>married</td>\n",
       "      <td>secondary</td>\n",
       "      <td>no</td>\n",
       "      <td>2</td>\n",
       "      <td>yes</td>\n",
       "      <td>yes</td>\n",
       "      <td>poor</td>\n",
       "      <td>[1, 3, 16, 17, 19]</td>\n",
       "    </tr>\n",
       "    <tr>\n",
       "      <th>1</th>\n",
       "      <td>35</td>\n",
       "      <td>management</td>\n",
       "      <td>married</td>\n",
       "      <td>tertiary</td>\n",
       "      <td>no</td>\n",
       "      <td>231</td>\n",
       "      <td>yes</td>\n",
       "      <td>no</td>\n",
       "      <td>good</td>\n",
       "      <td>[4, 8, 16]</td>\n",
       "    </tr>\n",
       "    <tr>\n",
       "      <th>2</th>\n",
       "      <td>41</td>\n",
       "      <td>management</td>\n",
       "      <td>single</td>\n",
       "      <td>tertiary</td>\n",
       "      <td>no</td>\n",
       "      <td>447</td>\n",
       "      <td>yes</td>\n",
       "      <td>yes</td>\n",
       "      <td>fair</td>\n",
       "      <td>[7, 16]</td>\n",
       "    </tr>\n",
       "    <tr>\n",
       "      <th>3</th>\n",
       "      <td>42</td>\n",
       "      <td>entrepreneur</td>\n",
       "      <td>divorced</td>\n",
       "      <td>tertiary</td>\n",
       "      <td>yes</td>\n",
       "      <td>2</td>\n",
       "      <td>yes</td>\n",
       "      <td>no</td>\n",
       "      <td>fair</td>\n",
       "      <td>[1, 3, 8, 10, 11, 12, 18, 19]</td>\n",
       "    </tr>\n",
       "    <tr>\n",
       "      <th>4</th>\n",
       "      <td>58</td>\n",
       "      <td>retired</td>\n",
       "      <td>married</td>\n",
       "      <td>primary</td>\n",
       "      <td>no</td>\n",
       "      <td>121</td>\n",
       "      <td>yes</td>\n",
       "      <td>no</td>\n",
       "      <td>good</td>\n",
       "      <td>[4, 5, 6, 7, 11, 18, 19]</td>\n",
       "    </tr>\n",
       "  </tbody>\n",
       "</table>\n",
       "</div>"
      ],
      "text/plain": [
       "   Age           Job   Marital  Education Default  Balance Housing Loan  \\\n",
       "0   33  entrepreneur   married  secondary      no        2     yes  yes   \n",
       "1   35    management   married   tertiary      no      231     yes   no   \n",
       "2   41    management    single   tertiary      no      447     yes  yes   \n",
       "3   42  entrepreneur  divorced   tertiary     yes        2     yes   no   \n",
       "4   58       retired   married    primary      no      121     yes   no   \n",
       "\n",
       "  Rating                       Products  \n",
       "0   poor             [1, 3, 16, 17, 19]  \n",
       "1   good                     [4, 8, 16]  \n",
       "2   fair                        [7, 16]  \n",
       "3   fair  [1, 3, 8, 10, 11, 12, 18, 19]  \n",
       "4   good       [4, 5, 6, 7, 11, 18, 19]  "
      ]
     },
     "execution_count": 14,
     "metadata": {},
     "output_type": "execute_result"
    }
   ],
   "source": [
    "#update the products column into lists of products\n",
    "marketing_campaign.iloc[:,9] = marketing_campaign.iloc[:,9].str.split(',')\n",
    "marketing_campaign.head(5)"
   ]
  },
  {
   "cell_type": "code",
   "execution_count": 15,
   "id": "3e8cd223",
   "metadata": {},
   "outputs": [],
   "source": [
    "educ_mapping = {\n",
    "    'secondary' : 1, \n",
    "    'tertiary' : 2,\n",
    "    'primary' : 3, \n",
    "}\n",
    "\n",
    "# If no mapping provided, return x\n",
    "f = lambda x: educ_mapping.get(x, x) \n",
    "#update the values of education with their corresponding numeric value\n",
    "marketing_sim = marketing_campaign\n",
    "marketing_sim.loc[:, 'Education'] = marketing_sim.loc[:, 'Education'].map(f)"
   ]
  },
  {
   "cell_type": "code",
   "execution_count": 16,
   "id": "005738ff",
   "metadata": {},
   "outputs": [],
   "source": [
    "rating_mapping = {\n",
    "    'poor' : 1, \n",
    "    'good' : 2,\n",
    "    'fair' : 3, \n",
    "    'very_good':4,\n",
    "    'excelent':5\n",
    "}\n",
    "\n",
    "# If no mapping provided, return x\n",
    "f2 = lambda x: rating_mapping.get(x, x) \n",
    "#update the values of education with their corresponding numeric value\n",
    "marketing_sim.loc[:, 'Rating'] = marketing_sim.loc[:, 'Rating'].map(f2)"
   ]
  },
  {
   "cell_type": "code",
   "execution_count": 17,
   "id": "877e30d4",
   "metadata": {},
   "outputs": [],
   "source": [
    "#estimate the number of observations in the dataset\n",
    "n = len(marketing_campaign)\n",
    "\n",
    "#empty dissimilarity matrix\n",
    "cust_dissimilarity = [[0.0 for x in range(0,n+1)] for y in range(0,n+1)]\n",
    "age_range = max(marketing_sim.Age) - min(marketing_sim.Age)\n",
    "balance_range = max(marketing_sim.Balance) - min(marketing_sim.Balance)\n",
    "education_range = max(marketing_sim.Education) - min(marketing_sim.Education)\n",
    "rating_range = max(marketing_sim.Rating) - min(marketing_sim.Rating)\n",
    "def similarity_estimation(campaign, customer_index=None):\n",
    "    best = {}\n",
    "    #if no specific customer is given, a dissimilarity matrix will be formed\n",
    "    if customer_index==None:\n",
    "        for i in range(0,n):\n",
    "            for j in range(i+1,n):\n",
    "                #calculating the age dissimilarity - numerical\n",
    "                age_dis = (abs(campaign.iloc[i,0] - campaign.iloc[j,0]))/age_range\n",
    "\n",
    "                #calculating the balance dissimilarity - numerical\n",
    "                balance_dis = (abs(campaign.iloc[i,5] - campaign.iloc[j,5]))/balance_range\n",
    "\n",
    "                #calculating the job dissmilarity - nominal (categorical)\n",
    "                if campaign.iloc[i,1] == campaign.iloc[j,1]:\n",
    "                    job_dis = 0\n",
    "                else:\n",
    "                    job_dis = 1\n",
    "\n",
    "                #calculating the marital status dissmilarity - nominal (categorical)\n",
    "                if campaign.iloc[i,2] == campaign.iloc[j,2]:\n",
    "                    marital_dis = 0\n",
    "                else:\n",
    "                    marital_dis = 1\n",
    "\n",
    "                #calculating the loan default index dissmilarity - nominal (binary - categorical)\n",
    "                if campaign.iloc[i,4] == campaign.iloc[j,4]:\n",
    "                    default_dis = 0\n",
    "                else:\n",
    "                    default_dis = 1\n",
    "\n",
    "                #calculating the housing loan index dissmilarity - nominal (binary - categorical)\n",
    "                if campaign.iloc[i,6] == campaign.iloc[j,6]:\n",
    "                    housing_dis = 0\n",
    "                else:\n",
    "                    housing_dis = 1\n",
    "\n",
    "                #calculating the personal loan index dissmilarity - nominal (binary - categorical)\n",
    "                if campaign.iloc[i,7] == campaign.iloc[j,7]:\n",
    "                    loan_dis = 0\n",
    "                else:\n",
    "                    loan_dis = 1\n",
    "\n",
    "                #calculating the education dissmilarity - oridnal\n",
    "                educ_dis = abs(campaign.iloc[i,3] - campaign.iloc[j,3])/education_range\n",
    "\n",
    "                #calculating the rating dissmilarity - oridnal\n",
    "                rating_dis = abs(campaign.iloc[i,8] - campaign.iloc[j,8])/rating_range\n",
    "\n",
    "                #calculating the jaccard dissmilarity of the products - sets of products\n",
    "                products_dis =  1 - jaccard_sim(campaign.iloc[i,9], campaign.iloc[j,9])\n",
    "\n",
    "                #calculating the customers dissimilarity and assigning it in the dissimilarity matrix\n",
    "                cust_dissimilarity[i][j] = (age_dis + balance_dis + job_dis + marital_dis + default_dis + housing_dis \\\n",
    "                                                  + loan_dis + educ_dis + rating_dis + products_dis)/10\n",
    "    #if a specific customer is given, his 10 nearest customers will be identified along with their similarity scores\n",
    "    #(similarity)\n",
    "    else:\n",
    "        i = customer_index\n",
    "        sp_cust_similarity = None\n",
    "        for j in range(0,n):\n",
    "            if i==j:\n",
    "                continue\n",
    "            else:\n",
    "                #calculating the age similarity - numerical\n",
    "                age_sim = 1 - (abs(campaign.iloc[i,0] - campaign.iloc[j,0]))/age_range\n",
    "\n",
    "                #calculating the balance similarity - numerical\n",
    "                balance_sim = 1 - (abs(campaign.iloc[i,5] - campaign.iloc[j,5]))/balance_range\n",
    "\n",
    "                #calculating the job similarity - nominal (categorical)\n",
    "                if campaign.iloc[i,1] == campaign.iloc[j,1]:\n",
    "                    job_sim = 1\n",
    "                else:\n",
    "                    job_sim = 0\n",
    "                    \n",
    "                #calculating the marital status similarity - nominal (categorical)\n",
    "                if campaign.iloc[i,2] == campaign.iloc[j,2]:\n",
    "                    marital_sim = 1\n",
    "                else:\n",
    "                    marital_sim = 0\n",
    "\n",
    "                #calculating the loan default index similarity - nominal (binary - categorical)\n",
    "                if campaign.iloc[i,4] == campaign.iloc[j,4]:\n",
    "                    default_sim = 1\n",
    "                else:\n",
    "                    default_sim = 0\n",
    "\n",
    "                #calculating the housing loan index similarity - nominal (binary - categorical)\n",
    "                if campaign.iloc[i,6] == campaign.iloc[j,6]:\n",
    "                    housing_sim = 1\n",
    "                else:\n",
    "                    housing_sim = 0\n",
    "\n",
    "                #calculating the personal loan index similarity - nominal (binary - categorical)\n",
    "                if campaign.iloc[i,7] == campaign.iloc[j,7]:\n",
    "                    loan_sim = 1\n",
    "                else:\n",
    "                    loan_sim = 0\n",
    "\n",
    "                #calculating the education similarity - oridnal\n",
    "                educ_sim = 1 - abs(campaign.iloc[i,3] - campaign.iloc[j,3])/education_range\n",
    "\n",
    "                #calculating the rating similarity - oridnal\n",
    "                rating_sim = 1 - abs(campaign.iloc[i,8] - campaign.iloc[j,8])/rating_range\n",
    "\n",
    "                #calculating the jaccard similarity of the products - sets of products\n",
    "                products_sim = jaccard_sim(campaign.iloc[i,9], campaign.iloc[j,9])\n",
    "\n",
    "                #calculating the customers similarity and assigning it in the dissimilarity matrix\n",
    "                sp_cust_similarity = (age_sim + balance_sim + job_sim + marital_sim + default_sim + housing_sim \\\n",
    "                                                  + loan_sim + educ_sim + rating_sim + products_sim)/10\n",
    "                if j <= 9:\n",
    "                    best[j] = sp_cust_similarity\n",
    "                else:\n",
    "                    if sp_cust_similarity > min(best.values()):\n",
    "                        min_key = min(best, key=best.get)\n",
    "                        del best[min_key]\n",
    "                        best[j] = sp_cust_similarity\n",
    "        best = {k: v for k, v in sorted(best.items(), key=lambda item: item[1])} \n",
    "        return best\n",
    "\n",
    "    "
   ]
  },
  {
   "cell_type": "code",
   "execution_count": 18,
   "id": "35beab87",
   "metadata": {},
   "outputs": [],
   "source": [
    "def printing_fun(cust_set, customer_index):\n",
    "    print('─' * 39)\n",
    "    print(\"| 10 Nearest Neighbors for Customer\",customer_index, \"|\")\n",
    "    print('─' * 39)\n",
    "    print(\"|  Customer ID\", \" \"*1, \"|\", \" \"*1,\"Similarity Score |\")\n",
    "    print('─' * 39)\n",
    "    # print each data item.\n",
    "    for key, value in cust_set.items():\n",
    "        print(\"|      \",key,\"     \",\"|\"\\\n",
    "              , \"       \", round(value,2), \"      |\")\n",
    "    print('─' * 39)\n",
    "       "
   ]
  },
  {
   "cell_type": "markdown",
   "id": "c7b25cbf",
   "metadata": {},
   "source": [
    "## Part 3 - Identification of the 10 nearest neighbors for some specific customers"
   ]
  },
  {
   "cell_type": "code",
   "execution_count": 19,
   "id": "a3d497ec",
   "metadata": {},
   "outputs": [
    {
     "name": "stdout",
     "output_type": "stream",
     "text": [
      "───────────────────────────────────────\n",
      "| 10 Nearest Neighbors for Customer 1200 |\n",
      "───────────────────────────────────────\n",
      "|  Customer ID   |   Similarity Score |\n",
      "───────────────────────────────────────\n",
      "|       313       |         0.93       |\n",
      "|       36452       |         0.93       |\n",
      "|       13730       |         0.93       |\n",
      "|       8604       |         0.93       |\n",
      "|       7034       |         0.93       |\n",
      "|       34503       |         0.93       |\n",
      "|       14912       |         0.93       |\n",
      "|       1660       |         0.93       |\n",
      "|       7448       |         0.93       |\n",
      "|       24897       |         0.94       |\n",
      "───────────────────────────────────────\n"
     ]
    }
   ],
   "source": [
    "#identification of the 10 nearest neighbors for the customer 1200\n",
    "cust_index = 1200\n",
    "nn_1200 = similarity_estimation(marketing_sim,cust_index)\n",
    "printing_fun(nn_1200,cust_index)"
   ]
  },
  {
   "cell_type": "code",
   "execution_count": 20,
   "id": "8b5dcd99",
   "metadata": {},
   "outputs": [
    {
     "name": "stdout",
     "output_type": "stream",
     "text": [
      "───────────────────────────────────────\n",
      "| 10 Nearest Neighbors for Customer 3650 |\n",
      "───────────────────────────────────────\n",
      "|  Customer ID   |   Similarity Score |\n",
      "───────────────────────────────────────\n",
      "|       38320       |         0.93       |\n",
      "|       25016       |         0.94       |\n",
      "|       33540       |         0.94       |\n",
      "|       36416       |         0.94       |\n",
      "|       4472       |         0.94       |\n",
      "|       26915       |         0.94       |\n",
      "|       16558       |         0.94       |\n",
      "|       30584       |         0.95       |\n",
      "|       8783       |         0.95       |\n",
      "|       5964       |         0.96       |\n",
      "───────────────────────────────────────\n"
     ]
    }
   ],
   "source": [
    "#identification of the 10 nearest neighbors for the customer 3650\n",
    "cust_index = 3650\n",
    "nn_3650 = similarity_estimation(marketing_sim,cust_index)\n",
    "printing_fun(nn_3650,cust_index)"
   ]
  },
  {
   "cell_type": "code",
   "execution_count": 21,
   "id": "ddffba38",
   "metadata": {},
   "outputs": [
    {
     "name": "stdout",
     "output_type": "stream",
     "text": [
      "───────────────────────────────────────\n",
      "| 10 Nearest Neighbors for Customer 10400 |\n",
      "───────────────────────────────────────\n",
      "|  Customer ID   |   Similarity Score |\n",
      "───────────────────────────────────────\n",
      "|       41843       |         0.92       |\n",
      "|       22547       |         0.92       |\n",
      "|       20525       |         0.92       |\n",
      "|       20404       |         0.93       |\n",
      "|       17420       |         0.93       |\n",
      "|       27072       |         0.93       |\n",
      "|       9331       |         0.94       |\n",
      "|       34689       |         0.94       |\n",
      "|       19547       |         0.94       |\n",
      "|       42394       |         0.94       |\n",
      "───────────────────────────────────────\n"
     ]
    }
   ],
   "source": [
    "#identification of the 10 nearest neighbors for the customer 10400\n",
    "cust_index = 10400\n",
    "nn_10400 = similarity_estimation(marketing_sim,cust_index)\n",
    "printing_fun(nn_10400,cust_index)"
   ]
  },
  {
   "cell_type": "code",
   "execution_count": 22,
   "id": "b3800271",
   "metadata": {},
   "outputs": [
    {
     "name": "stdout",
     "output_type": "stream",
     "text": [
      "───────────────────────────────────────\n",
      "| 10 Nearest Neighbors for Customer 14930 |\n",
      "───────────────────────────────────────\n",
      "|  Customer ID   |   Similarity Score |\n",
      "───────────────────────────────────────\n",
      "|       10890       |         0.89       |\n",
      "|       10729       |         0.9       |\n",
      "|       13072       |         0.9       |\n",
      "|       29092       |         0.9       |\n",
      "|       15797       |         0.9       |\n",
      "|       12628       |         0.9       |\n",
      "|       16439       |         0.9       |\n",
      "|       11778       |         0.91       |\n",
      "|       7583       |         0.91       |\n",
      "|       17418       |         0.92       |\n",
      "───────────────────────────────────────\n"
     ]
    }
   ],
   "source": [
    "#identification of the 10 nearest neighbors for the customer 14930\n",
    "cust_index = 14930\n",
    "nn_14930 = similarity_estimation(marketing_sim,cust_index)\n",
    "printing_fun(nn_14930,cust_index)"
   ]
  },
  {
   "cell_type": "code",
   "execution_count": 23,
   "id": "cd427b83",
   "metadata": {},
   "outputs": [
    {
     "name": "stdout",
     "output_type": "stream",
     "text": [
      "───────────────────────────────────────\n",
      "| 10 Nearest Neighbors for Customer 22330 |\n",
      "───────────────────────────────────────\n",
      "|  Customer ID   |   Similarity Score |\n",
      "───────────────────────────────────────\n",
      "|       34613       |         0.9       |\n",
      "|       13285       |         0.9       |\n",
      "|       4884       |         0.9       |\n",
      "|       14698       |         0.91       |\n",
      "|       23394       |         0.91       |\n",
      "|       16406       |         0.91       |\n",
      "|       23250       |         0.91       |\n",
      "|       16042       |         0.93       |\n",
      "|       30118       |         0.94       |\n",
      "|       15717       |         0.99       |\n",
      "───────────────────────────────────────\n"
     ]
    }
   ],
   "source": [
    "#identification of the 10 nearest neighbors for the customer 22330\n",
    "cust_index = 22330\n",
    "nn_22330 = similarity_estimation(marketing_sim,cust_index)\n",
    "printing_fun(nn_22330,cust_index)"
   ]
  },
  {
   "cell_type": "code",
   "execution_count": 24,
   "id": "4ad60ee6",
   "metadata": {},
   "outputs": [
    {
     "name": "stdout",
     "output_type": "stream",
     "text": [
      "───────────────────────────────────────\n",
      "| 10 Nearest Neighbors for Customer 25671 |\n",
      "───────────────────────────────────────\n",
      "|  Customer ID   |   Similarity Score |\n",
      "───────────────────────────────────────\n",
      "|       41282       |         0.93       |\n",
      "|       9606       |         0.93       |\n",
      "|       23519       |         0.93       |\n",
      "|       11102       |         0.93       |\n",
      "|       32030       |         0.93       |\n",
      "|       19547       |         0.93       |\n",
      "|       27373       |         0.94       |\n",
      "|       23602       |         0.94       |\n",
      "|       40717       |         0.94       |\n",
      "|       21113       |         0.94       |\n",
      "───────────────────────────────────────\n"
     ]
    }
   ],
   "source": [
    "#identification of the 10 nearest neighbors for the customer 25671\n",
    "cust_index = 25671\n",
    "nn_25671 = similarity_estimation(marketing_sim,cust_index)\n",
    "printing_fun(nn_25671,cust_index)"
   ]
  },
  {
   "cell_type": "code",
   "execution_count": 25,
   "id": "5606f6f0",
   "metadata": {},
   "outputs": [
    {
     "name": "stdout",
     "output_type": "stream",
     "text": [
      "───────────────────────────────────────\n",
      "| 10 Nearest Neighbors for Customer 29311 |\n",
      "───────────────────────────────────────\n",
      "|  Customer ID   |   Similarity Score |\n",
      "───────────────────────────────────────\n",
      "|       35247       |         0.91       |\n",
      "|       33851       |         0.91       |\n",
      "|       7053       |         0.91       |\n",
      "|       34959       |         0.91       |\n",
      "|       7929       |         0.92       |\n",
      "|       28454       |         0.92       |\n",
      "|       6596       |         0.92       |\n",
      "|       26497       |         0.93       |\n",
      "|       234       |         0.93       |\n",
      "|       4542       |         0.93       |\n",
      "───────────────────────────────────────\n"
     ]
    }
   ],
   "source": [
    "#identification of the 10 nearest neighbors for the customer 29311\n",
    "cust_index = 29311\n",
    "nn_29311 = similarity_estimation(marketing_sim,cust_index)\n",
    "printing_fun(nn_29311,cust_index)"
   ]
  },
  {
   "cell_type": "code",
   "execution_count": 26,
   "id": "6f72aa18",
   "metadata": {},
   "outputs": [
    {
     "name": "stdout",
     "output_type": "stream",
     "text": [
      "───────────────────────────────────────\n",
      "| 10 Nearest Neighbors for Customer 34650 |\n",
      "───────────────────────────────────────\n",
      "|  Customer ID   |   Similarity Score |\n",
      "───────────────────────────────────────\n",
      "|       8169       |         0.92       |\n",
      "|       652       |         0.92       |\n",
      "|       1351       |         0.93       |\n",
      "|       2968       |         0.93       |\n",
      "|       34618       |         0.93       |\n",
      "|       8462       |         0.93       |\n",
      "|       35282       |         0.93       |\n",
      "|       24793       |         0.93       |\n",
      "|       32087       |         0.94       |\n",
      "|       2258       |         0.94       |\n",
      "───────────────────────────────────────\n"
     ]
    }
   ],
   "source": [
    "#identification of the 10 nearest neighbors for the customer 34650\n",
    "cust_index = 34650\n",
    "nn_34650 = similarity_estimation(marketing_sim,cust_index)\n",
    "printing_fun(nn_34650,cust_index)"
   ]
  },
  {
   "cell_type": "code",
   "execution_count": 27,
   "id": "428f218d",
   "metadata": {},
   "outputs": [
    {
     "name": "stdout",
     "output_type": "stream",
     "text": [
      "───────────────────────────────────────\n",
      "| 10 Nearest Neighbors for Customer 39200 |\n",
      "───────────────────────────────────────\n",
      "|  Customer ID   |   Similarity Score |\n",
      "───────────────────────────────────────\n",
      "|       39631       |         0.94       |\n",
      "|       27681       |         0.94       |\n",
      "|       29726       |         0.94       |\n",
      "|       38913       |         0.94       |\n",
      "|       41136       |         0.94       |\n",
      "|       32422       |         0.95       |\n",
      "|       40901       |         0.95       |\n",
      "|       41662       |         0.95       |\n",
      "|       40086       |         0.95       |\n",
      "|       39233       |         0.95       |\n",
      "───────────────────────────────────────\n"
     ]
    }
   ],
   "source": [
    "#identification of the 10 nearest neighbors for the customer 39200\n",
    "cust_index = 39200\n",
    "nn_39200 = similarity_estimation(marketing_sim,cust_index)\n",
    "printing_fun(nn_39200,cust_index)"
   ]
  },
  {
   "cell_type": "code",
   "execution_count": 28,
   "id": "d8edd96e",
   "metadata": {},
   "outputs": [
    {
     "name": "stdout",
     "output_type": "stream",
     "text": [
      "───────────────────────────────────────\n",
      "| 10 Nearest Neighbors for Customer 42000 |\n",
      "───────────────────────────────────────\n",
      "|  Customer ID   |   Similarity Score |\n",
      "───────────────────────────────────────\n",
      "|       32895       |         0.94       |\n",
      "|       8078       |         0.95       |\n",
      "|       29573       |         0.95       |\n",
      "|       32523       |         0.95       |\n",
      "|       29886       |         0.95       |\n",
      "|       40642       |         0.95       |\n",
      "|       26216       |         0.95       |\n",
      "|       26435       |         0.95       |\n",
      "|       27907       |         0.96       |\n",
      "|       39897       |         0.97       |\n",
      "───────────────────────────────────────\n"
     ]
    }
   ],
   "source": [
    "#identification of the 10 nearest neighbors for the customer 42000\n",
    "cust_index = 42000\n",
    "nn_42000 = similarity_estimation(marketing_sim,cust_index)\n",
    "printing_fun(nn_42000,cust_index)"
   ]
  },
  {
   "cell_type": "markdown",
   "id": "5fe39648",
   "metadata": {},
   "source": [
    "## Part 4 - Customer rating prediction\n",
    "* Next we will attempt to predict the customer's ratings based on their nearest neighbors' rating by utilizing different methods."
   ]
  },
  {
   "cell_type": "code",
   "execution_count": 29,
   "id": "0ca7a010",
   "metadata": {},
   "outputs": [],
   "source": [
    "#estimate the number of observations in the dataset\n",
    "n = len(marketing_campaign)\n",
    "\n",
    "def rating_prediction(campaign, customer_index=None):\n",
    "    best = {}\n",
    "    sp_cust_similarity = None\n",
    "    i=customer_index\n",
    "    pred_ranks_avg = []\n",
    "    for j in range(0,n):\n",
    "        if i==j:\n",
    "            continue\n",
    "        else:\n",
    "            #calculating the age similarity - numerical\n",
    "            age_sim = 1 - (abs(campaign.iloc[i,0] - campaign.iloc[j,0]))/age_range\n",
    "\n",
    "            #calculating the balance similarity - numerical\n",
    "            balance_sim = 1 - (abs(campaign.iloc[i,5] - campaign.iloc[j,5]))/balance_range\n",
    "\n",
    "            #calculating the job similarity - nominal (categorical)\n",
    "            if campaign.iloc[i,1] == campaign.iloc[j,1]:\n",
    "                job_sim = 1\n",
    "            else:\n",
    "                job_sim = 0\n",
    "\n",
    "            #calculating the marital status similarity - nominal (categorical)\n",
    "            if campaign.iloc[i,2] == campaign.iloc[j,2]:\n",
    "                marital_sim = 1\n",
    "            else:\n",
    "                marital_sim = 0\n",
    "\n",
    "            #calculating the loan default index similarity - nominal (binary - categorical)\n",
    "            if campaign.iloc[i,4] == campaign.iloc[j,4]:\n",
    "                default_sim = 1\n",
    "            else:\n",
    "                default_sim = 0\n",
    "\n",
    "            #calculating the housing loan index similarity - nominal (binary - categorical)\n",
    "            if campaign.iloc[i,6] == campaign.iloc[j,6]:\n",
    "                housing_sim = 1\n",
    "            else:\n",
    "                housing_sim = 0\n",
    "\n",
    "            #calculating the personal loan index similarity - nominal (binary - categorical)\n",
    "            if campaign.iloc[i,7] == campaign.iloc[j,7]:\n",
    "                loan_sim = 1\n",
    "            else:\n",
    "                loan_sim = 0\n",
    "\n",
    "            #calculating the education similarity - oridnal\n",
    "            educ_sim = 1 - abs(campaign.iloc[i,3] - campaign.iloc[j,3])/education_range\n",
    "\n",
    "            #calculating the jaccard similarity of the products - sets of products\n",
    "            products_sim =  jaccard_sim(campaign.iloc[i,9], campaign.iloc[j,9])\n",
    "\n",
    "            #calculating the customers similarity and assigning it in the dissimilarity matrix\n",
    "            sp_cust_similarity = (age_sim + balance_sim + job_sim + marital_sim + default_sim + housing_sim \\\n",
    "                                              + loan_sim + educ_sim + products_sim)/10\n",
    "            if j <= 9:\n",
    "                best[j] = sp_cust_similarity\n",
    "            else:\n",
    "                if sp_cust_similarity > min(best.values()):\n",
    "                    min_key = min(best, key=best.get)\n",
    "                    del best[min_key]\n",
    "                    best[j] = sp_cust_similarity\n",
    "    best = {k: v for k, v in sorted(best.items(), key=lambda item: item[1])} \n",
    "    \n",
    "    #calculation of the average rank of a given customer given the average rank of his/her 10 nearest neighbors\n",
    "    rank_sum = 0\n",
    "    #for loop to find the sum of the ranks of his/her 10 nearest neighbors\n",
    "    for keys in best:\n",
    "        rank_sum += campaign.iloc[keys,8]\n",
    "    \n",
    "    #divide the sum of the neighbors' rating with the number of the nearest neighbors\n",
    "    avg_rank_of_nn = round(rank_sum/len(best.keys()),0)\n",
    "    \n",
    "    \n",
    "    #calculation of the weighted average rank of a given customer given the average rank of his/her 10 nearest neighbors\n",
    "    rank_weighted_sum = 0\n",
    "    similarity_sum = 0\n",
    "\n",
    "    #for loop to find the sum of the ranks multiplied by their similarity scores of his/her 10 nearest neighbors\n",
    "    for keys, values in best.items():\n",
    "        rank_weighted_sum += values * campaign.iloc[keys,8]\n",
    "        similarity_sum += values\n",
    "    \n",
    "    #divide the weighted sum of the neighbors' rating with the sum of their similarity scores\n",
    "    w_avg_rank_of_nn = round(rank_weighted_sum/similarity_sum,0)\n",
    "    \n",
    "    \n",
    "    return best, avg_rank_of_nn, w_avg_rank_of_nn\n"
   ]
  },
  {
   "cell_type": "markdown",
   "id": "e500d2b3",
   "metadata": {},
   "source": [
    "* Next, we will identify the 10 nearest neighbors of the customer-100 by using the function that does not consider any customer's rating"
   ]
  },
  {
   "cell_type": "code",
   "execution_count": 30,
   "id": "f561d886",
   "metadata": {},
   "outputs": [
    {
     "name": "stdout",
     "output_type": "stream",
     "text": [
      "───────────────────────────────────────\n",
      "| 10 Nearest Neighbors for Customer 100 |\n",
      "───────────────────────────────────────\n",
      "|  Customer ID   |   Similarity Score |\n",
      "───────────────────────────────────────\n",
      "|       25494       |         0.77       |\n",
      "|       5021       |         0.77       |\n",
      "|       25939       |         0.77       |\n",
      "|       32458       |         0.78       |\n",
      "|       11795       |         0.79       |\n",
      "|       33494       |         0.8       |\n",
      "|       8064       |         0.8       |\n",
      "|       11217       |         0.81       |\n",
      "|       10475       |         0.81       |\n",
      "|       34482       |         0.82       |\n",
      "───────────────────────────────────────\n",
      "The predicted rating of the customer 100 according to the average rating and the weighted average rating of his her 10 nearest neighbors is equal to 2.0 and 2.0 respectively.\n"
     ]
    }
   ],
   "source": [
    "#we assign the customer's (100) index\n",
    "cust_index = 100\n",
    "\n",
    "#we find the 10 nearest neighbors of the customer along with their similarity scores\n",
    "nn_100, avg_rating, w_avg_rating = rating_prediction(marketing_campaign,cust_index)\n",
    "printing_fun(nn_100,cust_index)\n",
    "print(\"The predicted rating of the customer\", cust_index, \"according to the average rating and the weighted average rating\\\n",
    " of his her 10 nearest neighbors is equal to\",avg_rating,\"and\", w_avg_rating, \"respectively.\")"
   ]
  },
  {
   "cell_type": "markdown",
   "id": "f6396ba6",
   "metadata": {},
   "source": [
    "* Finally, we will try to predict the rating scores for the first 50 customers in the dataset, according to the two classification methods that consider their 10-nearest neighbors and evaluate their effectiveness by using the Mean Prediction Error metric."
   ]
  },
  {
   "cell_type": "code",
   "execution_count": 31,
   "id": "285e0ddf",
   "metadata": {},
   "outputs": [],
   "source": [
    "#we create two empty lists that contain the predicted rating scores from each classification method \n",
    "#(average, weighted average) \n",
    "list_of_predicted_rating_avg = []\n",
    "list_of_predicted_rating_w_avg = []\n",
    "\n",
    "#for loop that will iterate through the first 50 customers\n",
    "for i in range(0,50):\n",
    "    #we assign the results of the function in three variables\n",
    "    nn_dict, avg, w_avg = rating_prediction(marketing_campaign,i)\n",
    "    #we append each predicted rating to its corresponding list\n",
    "    list_of_predicted_rating_avg.append(avg)\n",
    "    list_of_predicted_rating_w_avg.append(w_avg)\n"
   ]
  },
  {
   "cell_type": "code",
   "execution_count": 34,
   "id": "a11f54a1",
   "metadata": {},
   "outputs": [],
   "source": [
    "#we find the true rating scores of the first 50 customers\n",
    "true_ratings_of_first_50_cust = marketing_campaign.iloc[0:50,8]\n",
    "\n",
    "#calculation of the mean prediction error for the predictions based on the average ratings of the 10-nn\n",
    "mpe_score_avg = sum(abs(list_of_predicted_rating_avg- true_ratings_of_first_50_cust))/len(true_ratings_of_first_50_cust)\n",
    "\n",
    "#calculation of the mean prediction error for the predictions based on the weighted average ratings of the 10-nn\n",
    "mpe_score_w_avg = sum(abs(list_of_predicted_rating_w_avg- true_ratings_of_first_50_cust))/len(true_ratings_of_first_50_cust)"
   ]
  },
  {
   "cell_type": "code",
   "execution_count": 35,
   "id": "d90a9595",
   "metadata": {},
   "outputs": [
    {
     "name": "stdout",
     "output_type": "stream",
     "text": [
      "Mean Prediction Error for the predictions based on nn-average rating is equal to 0.46\n",
      "Mean Prediction Error for the predictions based on nn-weighted average rating is equal to 0.48\n"
     ]
    }
   ],
   "source": [
    "print(\"Mean Prediction Error for the predictions based on nn-average rating\\\n",
    " is equal to\", mpe_score_avg)\n",
    "\n",
    "print(\"Mean Prediction Error for the predictions based on nn-weighted average rating\\\n",
    " is equal to\", mpe_score_w_avg)"
   ]
  },
  {
   "cell_type": "markdown",
   "id": "2d4d56a4",
   "metadata": {},
   "source": [
    "#### It is observed that the weighted average classification method has slightly worse predictions on the customers' ratings. In other words, the average rating score of the nearest customers is a slightly better measure to predict one's true rating. Thus, we can assume that it is a more efficient method to predict any given customer's rating based on the average rating of his/her nearest neighbors-customers. "
   ]
  }
 ],
 "metadata": {
  "celltoolbar": "Slideshow",
  "kernelspec": {
   "display_name": "Python 3",
   "language": "python",
   "name": "python3"
  },
  "language_info": {
   "codemirror_mode": {
    "name": "ipython",
    "version": 3
   },
   "file_extension": ".py",
   "mimetype": "text/x-python",
   "name": "python",
   "nbconvert_exporter": "python",
   "pygments_lexer": "ipython3",
   "version": "3.8.8"
  }
 },
 "nbformat": 4,
 "nbformat_minor": 5
}
