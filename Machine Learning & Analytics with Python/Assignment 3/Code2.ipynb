{
 "cells": [
  {
   "cell_type": "markdown",
   "id": "07962e1f-b686-402b-a8dc-be54e5c3c6b5",
   "metadata": {},
   "source": [
    "Name: Stamatios Sideris\n",
    "\n",
    "ID: f2822113"
   ]
  },
  {
   "cell_type": "markdown",
   "id": "a2c07d8c-4acf-4e96-afa7-ce8194793c25",
   "metadata": {
    "tags": []
   },
   "source": [
    "### We first create a sparkSession. It is responsible to create a sparkContext object that will help us communicate with Spark. As it will need the credentials of our application it also creates a SparkConf object that includes our application name and the location it will run."
   ]
  },
  {
   "cell_type": "code",
   "execution_count": 1,
   "id": "60575b98-8a61-4352-9ded-8c3db621b8ba",
   "metadata": {},
   "outputs": [],
   "source": [
    "from pyspark.sql import SparkSession\n",
    "appName = \"task2\" #determine the name of the App\n",
    "master = \"local\" #determine it will run locally\n",
    "spark = SparkSession.builder.appName(appName).master(master).getOrCreate()"
   ]
  },
  {
   "cell_type": "markdown",
   "id": "f5663f71-35c0-4f6b-9a43-ba443e8cd801",
   "metadata": {},
   "source": [
    "### We read the json file and print its schema"
   ]
  },
  {
   "cell_type": "code",
   "execution_count": 2,
   "id": "2b35a7d7-b435-4324-ba6b-3585f4bdf190",
   "metadata": {},
   "outputs": [
    {
     "name": "stdout",
     "output_type": "stream",
     "text": [
      "root\n",
      " |-- asin: string (nullable = true)\n",
      " |-- authors: array (nullable = true)\n",
      " |    |-- element: struct (containsNull = true)\n",
      " |    |    |-- author_id: string (nullable = true)\n",
      " |    |    |-- role: string (nullable = true)\n",
      " |-- average_rating: string (nullable = true)\n",
      " |-- book_id: string (nullable = true)\n",
      " |-- country_code: string (nullable = true)\n",
      " |-- description: string (nullable = true)\n",
      " |-- edition_information: string (nullable = true)\n",
      " |-- format: string (nullable = true)\n",
      " |-- image_url: string (nullable = true)\n",
      " |-- is_ebook: string (nullable = true)\n",
      " |-- isbn: string (nullable = true)\n",
      " |-- isbn13: string (nullable = true)\n",
      " |-- kindle_asin: string (nullable = true)\n",
      " |-- language_code: string (nullable = true)\n",
      " |-- link: string (nullable = true)\n",
      " |-- num_pages: string (nullable = true)\n",
      " |-- popular_shelves: array (nullable = true)\n",
      " |    |-- element: struct (containsNull = true)\n",
      " |    |    |-- count: string (nullable = true)\n",
      " |    |    |-- name: string (nullable = true)\n",
      " |-- publication_day: string (nullable = true)\n",
      " |-- publication_month: string (nullable = true)\n",
      " |-- publication_year: string (nullable = true)\n",
      " |-- publisher: string (nullable = true)\n",
      " |-- ratings_count: string (nullable = true)\n",
      " |-- series: array (nullable = true)\n",
      " |    |-- element: string (containsNull = true)\n",
      " |-- similar_books: array (nullable = true)\n",
      " |    |-- element: string (containsNull = true)\n",
      " |-- text_reviews_count: string (nullable = true)\n",
      " |-- title: string (nullable = true)\n",
      " |-- title_without_series: string (nullable = true)\n",
      " |-- url: string (nullable = true)\n",
      " |-- work_id: string (nullable = true)\n",
      "\n",
      "+----------+-------------+--------------+--------+------------+--------------------+-------------------+---------+--------------------+--------+----------+------+-----------+-------------+--------------------+---------+--------------------+---------------+-----------------+----------------+--------------------+-------------+--------------------+--------------------+------------------+--------------------+--------------------+--------------------+--------+\n",
      "|      asin|      authors|average_rating| book_id|country_code|         description|edition_information|   format|           image_url|is_ebook|      isbn|isbn13|kindle_asin|language_code|                link|num_pages|     popular_shelves|publication_day|publication_month|publication_year|           publisher|ratings_count|              series|       similar_books|text_reviews_count|               title|title_without_series|                 url| work_id|\n",
      "+----------+-------------+--------------+--------+------------+--------------------+-------------------+---------+--------------------+--------+----------+------+-----------+-------------+--------------------+---------+--------------------+---------------+-----------------+----------------+--------------------+-------------+--------------------+--------------------+------------------+--------------------+--------------------+--------------------+--------+\n",
      "|B00NLXQ534|[{8551671, }]|          4.12|25742454|          US|Lillian Ann Cross...|                   |         |https://s.gr-asse...|    true|          |      |           |             |https://www.goodr...|         |[{228, to-read}, ...|               |                 |                |                    |            1|                  []|[25653153, 256991...|                 1|The Switchblade M...|The Switchblade M...|https://www.goodr...|42749946|\n",
      "|          |[{3274315, }]|          3.94|30128855|          US|Florence Dupre La...|                   |         |https://images.gr...|   false|2205073346|      |           |          fre|https://www.goodr...|         |[{2, bd}, {2, to-...|             22|                1|            2016|             Dargaud|           16|                  []|                  []|                 2|             Cruelle|             Cruelle|https://www.goodr...|50558228|\n",
      "|          |  [{37450, }]|          4.28|13571772|          US|The questions pla...|                   |Hardcover|https://images.gr...|   false|          |      |           |          eng|https://www.goodr...|      146|[{493, to-read}, ...|               |                 |            2012|Hachette Partwork...|           51|[246830, 362583, ...|[13590139, 105963...|                 5|Captain America: ...|Captain America: ...|https://www.goodr...|  102217|\n",
      "+----------+-------------+--------------+--------+------------+--------------------+-------------------+---------+--------------------+--------+----------+------+-----------+-------------+--------------------+---------+--------------------+---------------+-----------------+----------------+--------------------+-------------+--------------------+--------------------+------------------+--------------------+--------------------+--------------------+--------+\n",
      "only showing top 3 rows\n",
      "\n"
     ]
    }
   ],
   "source": [
    "json_path = \"books_5000.json\"\n",
    "df = spark.read.json(json_path)\n",
    "df.printSchema()\n",
    "df.show(3)"
   ]
  },
  {
   "cell_type": "markdown",
   "id": "3e9a2163-7e73-4a14-a04a-f01679eaadf7",
   "metadata": {
    "tags": []
   },
   "source": [
    "### We choose to keep the columns \"book_id\", \"title\" and \"average_rating\". We filter them so that we keep only the titles that start with the letter \"S\". We sort them in descending order by the column \"average_rating\" and we choose the first row as it will be the highest rating."
   ]
  },
  {
   "cell_type": "code",
   "execution_count": 3,
   "id": "57a8927a-4e1f-47b1-93cb-d73c26a33631",
   "metadata": {},
   "outputs": [
    {
     "name": "stdout",
     "output_type": "stream",
     "text": [
      "+--------+--------------------+--------------+\n",
      "| book_id|               title|average_rating|\n",
      "+--------+--------------------+--------------+\n",
      "|22129858|Superman: The Gol...|          4.75|\n",
      "+--------+--------------------+--------------+\n",
      "only showing top 1 row\n",
      "\n"
     ]
    }
   ],
   "source": [
    "from pyspark.sql.functions import desc\n",
    "df.select(df[\"book_id\"],df[\"title\"],df[\"average_rating\"]).filter(df.title.startswith(\"S\")).sort(desc(\"average_rating\")).show(1)"
   ]
  },
  {
   "cell_type": "markdown",
   "id": "d638c369-609e-44ed-9b4b-519db38ab501",
   "metadata": {},
   "source": [
    "### We filter the titles that start with \"I\". We then use mean command to find the average of the \"average_rating\" column."
   ]
  },
  {
   "cell_type": "code",
   "execution_count": 4,
   "id": "daec552e-5000-4c91-ada6-013d7f960f7a",
   "metadata": {},
   "outputs": [
    {
     "name": "stdout",
     "output_type": "stream",
     "text": [
      "+-------------------+\n",
      "|avg(average_rating)|\n",
      "+-------------------+\n",
      "| 3.9546753246753252|\n",
      "+-------------------+\n",
      "\n"
     ]
    }
   ],
   "source": [
    "from pyspark.sql.functions import mean\n",
    "df.filter(df.title.startswith(\"I\")).select(mean(\"average_rating\")).show()"
   ]
  },
  {
   "cell_type": "markdown",
   "id": "6ffeea1b-2240-489f-9228-7b9d733dc3a9",
   "metadata": {},
   "source": [
    "### We change the type of column \"num_pages\" to integer as it is an integer number."
   ]
  },
  {
   "cell_type": "code",
   "execution_count": 5,
   "id": "ec798de0-ad22-45d6-bae4-58957d48d5d2",
   "metadata": {},
   "outputs": [],
   "source": [
    "from pyspark.sql.types import *\n",
    "df = df.withColumn(\"num_pages\",df.num_pages.cast(IntegerType()))"
   ]
  },
  {
   "cell_type": "markdown",
   "id": "73eb435e-5af8-4670-900a-3cb795c3427d",
   "metadata": {},
   "source": [
    "### We select the columns \"book_id\", \"title\", \"format\" and \"num_pages\" as they are the ones needed. We filter them for titles starting with \"D\" and their format is equal to \"Paperback\". We sort them in descending order by the number of pages and take the first row as it will be the book with the most pages."
   ]
  },
  {
   "cell_type": "code",
   "execution_count": 6,
   "id": "c27b7501-a813-4c14-9cd9-2dbaa89026f1",
   "metadata": {},
   "outputs": [
    {
     "name": "stdout",
     "output_type": "stream",
     "text": [
      "+--------+--------------------+---------+---------+\n",
      "| book_id|               title|   format|num_pages|\n",
      "+--------+--------------------+---------+---------+\n",
      "|18143804|Dragon Ball (3-in...|Paperback|      576|\n",
      "+--------+--------------------+---------+---------+\n",
      "only showing top 1 row\n",
      "\n"
     ]
    }
   ],
   "source": [
    "df.select(df[\"book_id\"],df[\"title\"],df[\"format\"],df[\"num_pages\"]).filter(df.title.startswith(\"D\") & (df.format == \"Paperback\")).sort(desc(\"num_pages\")).show(1)"
   ]
  }
 ],
 "metadata": {
  "kernelspec": {
   "display_name": "Python 3 (ipykernel)",
   "language": "python",
   "name": "python3"
  },
  "language_info": {
   "codemirror_mode": {
    "name": "ipython",
    "version": 3
   },
   "file_extension": ".py",
   "mimetype": "text/x-python",
   "name": "python",
   "nbconvert_exporter": "python",
   "pygments_lexer": "ipython3",
   "version": "3.9.10"
  }
 },
 "nbformat": 4,
 "nbformat_minor": 5
}
