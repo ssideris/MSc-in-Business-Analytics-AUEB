{
 "cells": [
  {
   "cell_type": "code",
   "execution_count": 458,
   "id": "b6dffeb5",
   "metadata": {},
   "outputs": [],
   "source": [
    "import pandas as pd\n",
    "import numpy as np"
   ]
  },
  {
   "cell_type": "code",
   "execution_count": 459,
   "id": "4c308ac5",
   "metadata": {},
   "outputs": [],
   "source": [
    "data2016 = pd.read_csv(\"Cleaned data/data2016_clean.csv\")\n",
    "data2017 = pd.read_csv(\"Cleaned data/data2017_clean.csv\")\n",
    "data2018 = pd.read_csv(\"Cleaned data/data2018_clean.csv\")\n",
    "data2019 = pd.read_csv(\"Cleaned data/data2019_clean.csv\")\n",
    "data2020 = pd.read_csv(\"Cleaned data/data2020_clean.csv\")"
   ]
  },
  {
   "cell_type": "code",
   "execution_count": 460,
   "id": "3abe2f72",
   "metadata": {
    "scrolled": true
   },
   "outputs": [],
   "source": [
    "def from_to_weight(data):\n",
    "    #create empty dataframe\n",
    "    dataset = pd.DataFrame()\n",
    "    #convert strings to lists\n",
    "    data.V1 = data.V1.str.split(\",\")\n",
    "    #get all the possible pairs per list and add it to a column called pairs\n",
    "    dataset['pairs'] = [(a, b)  for i in data.V1 for idx, a in enumerate(i) for b in i[idx + 1:]]\n",
    "    #to avoid reversed pairs, sort every list and then concat the items in it to a different column splitted with a comma\n",
    "    x=0\n",
    "    for i in dataset['pairs']:\n",
    "        dataset.iloc[x,0] = sorted(i)\n",
    "        x+=1\n",
    "    dataset['concat'] = dataset['pairs'].apply(lambda r: ','.join(r))\n",
    "    # group by the concat and count the frequency for each concatenated item\n",
    "    dataset = dataset.groupby(['concat']).size().reset_index()\n",
    "    dataset.rename(columns = {0:'weight'}, inplace=True)\n",
    "    #convert strings to lists\n",
    "    dataset['concat'] = dataset['concat'].str.split(\",\")\n",
    "    #create from/to columns with the first and second item of each list\n",
    "    dataset['from'] = [a for i in dataset['concat'] for idx,a in enumerate(i) if idx==0]\n",
    "    dataset['to'] = [a for i in dataset['concat'] for idx,a in enumerate(i) if idx==1]\n",
    "    #delete concat column and reorder the columns\n",
    "    dataset = dataset.drop('concat',1)\n",
    "    dataset = dataset[['from','to','weight']]\n",
    "    return dataset"
   ]
  },
  {
   "cell_type": "code",
   "execution_count": 461,
   "id": "cbed79df",
   "metadata": {},
   "outputs": [],
   "source": [
    "#convert the datasets of each year to from/to/weight form\n",
    "data2016 = from_to_weight(data2016)\n",
    "data2017 = from_to_weight(data2017)\n",
    "data2018 = from_to_weight(data2018)\n",
    "data2019 = from_to_weight(data2019)\n",
    "data2020 = from_to_weight(data2020)"
   ]
  },
  {
   "cell_type": "code",
   "execution_count": 463,
   "id": "9a32f18a",
   "metadata": {},
   "outputs": [],
   "source": [
    "#export datasets to csv files\n",
    "data2016.to_csv('data2016final.csv')\n",
    "data2017.to_csv('data2017final.csv')\n",
    "data2018.to_csv('data2018final.csv')\n",
    "data2019.to_csv('data2019final.csv')\n",
    "data2020.to_csv('data2020final.csv')"
   ]
  }
 ],
 "metadata": {
  "kernelspec": {
   "display_name": "Python 3",
   "language": "python",
   "name": "python3"
  },
  "language_info": {
   "codemirror_mode": {
    "name": "ipython",
    "version": 3
   },
   "file_extension": ".py",
   "mimetype": "text/x-python",
   "name": "python",
   "nbconvert_exporter": "python",
   "pygments_lexer": "ipython3",
   "version": "3.8.8"
  }
 },
 "nbformat": 4,
 "nbformat_minor": 5
}
